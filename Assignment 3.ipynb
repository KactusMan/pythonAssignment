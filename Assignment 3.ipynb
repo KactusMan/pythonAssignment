{
 "cells": [
  {
   "cell_type": "code",
   "execution_count": 1,
   "id": "b056f7c2",
   "metadata": {},
   "outputs": [
    {
     "name": "stdout",
     "output_type": "stream",
     "text": [
      "Twinkle, twinkle, little star, \n",
      "\tHow I wonder what you are! \n",
      "\t\tUp above the world so high, \n",
      "\t\tLike a diamond in the sky. \n",
      "Twinkle, twinkle, little star, \n",
      "\tHow I wonder what you are!\n"
     ]
    }
   ],
   "source": [
    "## 1) Write a Python program to print the following string in a specific format (see the output).\n",
    "##Twinkle, twinkle, little star,\n",
    "\n",
    "         ##How I wonder what you are!\n",
    "\n",
    "               ##Up above the world so high,\n",
    "               ##Like a diamond in the sky.\n",
    "\n",
    "##Twinkle, twinkle, little star,\n",
    "\n",
    "        ##How I wonder what you are \n",
    "print(\"Twinkle, twinkle, little star, \\n\\tHow I wonder what you are! \\n\\t\\tUp above the world so high, \\n\\t\\tLike a diamond in the sky. \\nTwinkle, twinkle, little star, \\n\\tHow I wonder what you are!\")\n"
   ]
  },
  {
   "cell_type": "code",
   "execution_count": 2,
   "id": "0b9c395c",
   "metadata": {},
   "outputs": [
    {
     "name": "stdout",
     "output_type": "stream",
     "text": [
      "Python version\n",
      "3.8.8 (default, Apr 13 2021, 15:08:03) [MSC v.1916 64 bit (AMD64)]\n"
     ]
    }
   ],
   "source": [
    "## 2) Write a Python program to get the Python version you are using \n",
    "import sys\n",
    "print(\"Python version\")\n",
    "print (sys.version)"
   ]
  },
  {
   "cell_type": "code",
   "execution_count": 4,
   "id": "605fa405",
   "metadata": {},
   "outputs": [
    {
     "name": "stdout",
     "output_type": "stream",
     "text": [
      "Current date and time : \n",
      "2021-10-23 20:20:30\n"
     ]
    }
   ],
   "source": [
    "## 3) Write a Python program to display the current date and time. \n",
    "import datetime\n",
    "now = datetime.datetime.now()\n",
    "print (\"Current date and time : \")\n",
    "print (now.strftime(\"%Y-%m-%d %H:%M:%S\"))"
   ]
  },
  {
   "cell_type": "code",
   "execution_count": 5,
   "id": "9011e61c",
   "metadata": {},
   "outputs": [
    {
     "name": "stdout",
     "output_type": "stream",
     "text": [
      "Input the radius of the circle : 5.4\n",
      "The area of the circle with radius 5.4 is: 91.60884177867838\n"
     ]
    }
   ],
   "source": [
    "## 4) Write a Python program which accepts the radius of a circle from the user and compute the area. \n",
    "from math import pi\n",
    "r = float(input (\"Input the radius of the circle : \"))\n",
    "print (\"The area of the circle with radius \" + str(r) + \" is: \" + str(pi * r**2))"
   ]
  },
  {
   "cell_type": "code",
   "execution_count": 8,
   "id": "4444c0d5",
   "metadata": {},
   "outputs": [
    {
     "name": "stdout",
     "output_type": "stream",
     "text": [
      "Input your First Name : Rayan\n",
      "Input your Last Name : Idrees\n",
      "Idrees Rayan\n"
     ]
    }
   ],
   "source": [
    "## 5) Write a Python program which accepts the user's first and last name and print them in\n",
    "## reverse order with a space between them. \n",
    "fname = input(\"Input your First Name : \")\n",
    "lname = input(\"Input your Last Name : \")\n",
    "print (lname + \" \" + fname)"
   ]
  },
  {
   "cell_type": "code",
   "execution_count": 10,
   "id": "bdecbf6d",
   "metadata": {},
   "outputs": [
    {
     "name": "stdout",
     "output_type": "stream",
     "text": [
      "enter first number: 5\n",
      "enter second number: 15\n",
      "sum: 20\n"
     ]
    }
   ],
   "source": [
    "## 6) Write a python program which takes two inputs from user and print them addition \n",
    "a = int(input(\"enter first number: \"))\n",
    "b = int(input(\"enter second number: \"))\n",
    "sum = a + b\n",
    "print(\"sum:\", sum)"
   ]
  },
  {
   "cell_type": "code",
   "execution_count": 11,
   "id": "4c6eddd2",
   "metadata": {},
   "outputs": [
    {
     "name": "stdout",
     "output_type": "stream",
     "text": [
      "Enter marks of the urdu subject: 80\n",
      "Enter marks of the eng subject: 60\n",
      "Enter marks of the math subject: 70\n",
      "Enter marks of the pst subject: 66\n",
      "Enter marks of the chem subject: 80\n",
      "Grade: B\n"
     ]
    }
   ],
   "source": [
    "## 7) Write a program which takes 5 inputs from user for different subject’s marks, total it\n",
    "## and generate mark sheet using grades ?\n",
    "urdu=int(input(\"Enter marks of the urdu subject: \"))\n",
    "eng=int(input(\"Enter marks of the eng subject: \"))\n",
    "math=int(input(\"Enter marks of the math subject: \"))\n",
    "pst=int(input(\"Enter marks of the pst subject: \"))\n",
    "chem=int(input(\"Enter marks of the chem subject: \"))\n",
    "total=500\n",
    "obtained=urdu+eng+math+pst+chem\n",
    "percent= (obtained/total)*100\n",
    "if(percent<90 and percent>80):\n",
    "    print(\"Grade: A\")\n",
    "elif(percent<80 and percent>70):\n",
    "    print(\"Grade: B\")\n",
    "elif(percent<70 and percent>60):\n",
    "    print(\"Grade: C\")\n",
    "elif(percent<60 and percent>50):\n",
    "    print(\"Grade: D\")\n",
    "else:\n",
    "    print(\"Grade: F\")"
   ]
  },
  {
   "cell_type": "code",
   "execution_count": 12,
   "id": "75892212",
   "metadata": {},
   "outputs": [
    {
     "name": "stdout",
     "output_type": "stream",
     "text": [
      "Enter a number: 8\n",
      "This is an even number.\n"
     ]
    }
   ],
   "source": [
    "## 8) Write a program which take input from user and identify that the given number is even or odd? \n",
    "num = int(input(\"Enter a number: \"))\n",
    "mod = num % 2\n",
    "if mod > 0:\n",
    "    print(\"This is an odd number.\")\n",
    "else:\n",
    "    print(\"This is an even number.\")"
   ]
  },
  {
   "cell_type": "code",
   "execution_count": 13,
   "id": "4deed305",
   "metadata": {},
   "outputs": [
    {
     "name": "stdout",
     "output_type": "stream",
     "text": [
      "5\n"
     ]
    }
   ],
   "source": [
    "## 9) Write a program which print the length of the list? \n",
    "inp_lst = ['Python','Java','Kotlin','Machine Learning','Keras']\n",
    "size = len(inp_lst)\n",
    "print(size)"
   ]
  },
  {
   "cell_type": "code",
   "execution_count": 1,
   "id": "a4b16a3a",
   "metadata": {},
   "outputs": [
    {
     "name": "stdout",
     "output_type": "stream",
     "text": [
      "15\n"
     ]
    }
   ],
   "source": [
    "## 10) Write a Python program to sum all the numeric items in a list? \n",
    "import math\n",
    "x=[1,2,3,4,5]\n",
    "total=sum(x)\n",
    "print(total)"
   ]
  },
  {
   "cell_type": "code",
   "execution_count": 3,
   "id": "7c675a49",
   "metadata": {},
   "outputs": [
    {
     "name": "stdout",
     "output_type": "stream",
     "text": [
      "5\n"
     ]
    }
   ],
   "source": [
    "## 11 )Write a Python program to get the largest number from a numeric list.\n",
    "x=[1,2,3,4,5]\n",
    "maximum=max(x)\n",
    "print(maximum)"
   ]
  },
  {
   "cell_type": "code",
   "execution_count": 5,
   "id": "4411660a",
   "metadata": {},
   "outputs": [
    {
     "name": "stdout",
     "output_type": "stream",
     "text": [
      "9\n",
      "6\n",
      "8\n"
     ]
    }
   ],
   "source": [
    "## 12) Take a list, say for example this one:\n",
    "## Write a program that prints out all the elements of the list that less than 10.\n",
    "a = [10,20,25,15,9,6,12,8]\n",
    "for i in a:\n",
    "    if i < 10:\n",
    "        print(i)"
   ]
  }
 ],
 "metadata": {
  "kernelspec": {
   "display_name": "Python 3",
   "language": "python",
   "name": "python3"
  },
  "language_info": {
   "codemirror_mode": {
    "name": "ipython",
    "version": 3
   },
   "file_extension": ".py",
   "mimetype": "text/x-python",
   "name": "python",
   "nbconvert_exporter": "python",
   "pygments_lexer": "ipython3",
   "version": "3.8.8"
  }
 },
 "nbformat": 4,
 "nbformat_minor": 5
}
